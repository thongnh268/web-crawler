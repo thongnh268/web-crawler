{
 "cells": [
  {
   "cell_type": "code",
   "execution_count": 4,
   "metadata": {
    "scrolled": false
   },
   "outputs": [
    {
     "data": {
      "text/plain": [
       "<matplotlib.axes._subplots.AxesSubplot at 0x7f470ec0bef0>"
      ]
     },
     "execution_count": 4,
     "metadata": {},
     "output_type": "execute_result"
    },
    {
     "data": {
      "image/png": "[encoded data removed]",
      "text/plain": [
       "<Figure size 432x288 with 1 Axes>"
      ]
     },
     "metadata": {},
     "output_type": "display_data"
    }
   ],
   "source": [
    "import pandas as pd\n",
    "import numpy as np\n",
    "from matplotlib import pyplot as plt\n",
    "df = pd.read_json('out.json')\n",
    "#arr = df.to_numpy()\n",
    "#for i in range(0, 5314):\n",
    " #   arr[i][1] = round(arr[i][1])\n",
    "  #  print(arr[i][1])\n",
    "    \n",
    "#ratings = [1 ,2 ,3 ,4, 5 ,6 ,7 ,8 ,9, 10]    \n",
    "#plt.xlabel(\"rating\")\n",
    "#plt.ylabel(\"numbers of rating\")\n",
    "#plt.bar(ratings,)\n",
    "a = df['rating'].value_counts()\n",
    "round(df[\"rating\"]).value_counts().plot(kind='bar', color='blue')"
   ]
  },
  {
   "cell_type": "code",
   "execution_count": 5,
   "metadata": {},
   "outputs": [
    {
     "name": "stderr",
     "output_type": "stream",
     "text": [
      "/home/namnd/anaconda3/lib/python3.6/site-packages/ipykernel_launcher.py:2: SettingWithCopyWarning: \n",
      "A value is trying to be set on a copy of a slice from a DataFrame\n",
      "\n",
      "See the caveats in the documentation: http://pandas.pydata.org/pandas-docs/stable/indexing.html#indexing-view-versus-copy\n",
      "  \n"
     ]
    },
    {
     "ename": "KeyboardInterrupt",
     "evalue": "",
     "output_type": "error",
     "traceback": [
      "\u001b[0;31m---------------------------------------------------------------------------\u001b[0m",
      "\u001b[0;31mKeyboardInterrupt\u001b[0m                         Traceback (most recent call last)",
      "\u001b[0;32m<ipython-input-5-e1772492a69a>\u001b[0m in \u001b[0;36m<module>\u001b[0;34m()\u001b[0m\n\u001b[1;32m      1\u001b[0m \u001b[0;32mfor\u001b[0m \u001b[0mi\u001b[0m\u001b[0;34m,\u001b[0m \u001b[0mc\u001b[0m \u001b[0;32min\u001b[0m \u001b[0menumerate\u001b[0m\u001b[0;34m(\u001b[0m\u001b[0mdf\u001b[0m\u001b[0;34m[\u001b[0m\u001b[0;34m\"rating\"\u001b[0m\u001b[0;34m]\u001b[0m\u001b[0;34m)\u001b[0m\u001b[0;34m:\u001b[0m\u001b[0;34m\u001b[0m\u001b[0m\n\u001b[0;32m----> 2\u001b[0;31m     \u001b[0mdf\u001b[0m\u001b[0;34m[\u001b[0m\u001b[0;34m\"rating\"\u001b[0m\u001b[0;34m]\u001b[0m\u001b[0;34m[\u001b[0m\u001b[0mi\u001b[0m\u001b[0;34m]\u001b[0m \u001b[0;34m=\u001b[0m \u001b[0mround\u001b[0m\u001b[0;34m(\u001b[0m\u001b[0mc\u001b[0m\u001b[0;34m)\u001b[0m\u001b[0;34m\u001b[0m\u001b[0m\n\u001b[0m",
      "\u001b[0;32m~/anaconda3/lib/python3.6/site-packages/pandas/core/series.py\u001b[0m in \u001b[0;36m__setitem__\u001b[0;34m(self, key, value)\u001b[0m\n\u001b[1;32m    935\u001b[0m \u001b[0;34m\u001b[0m\u001b[0m\n\u001b[1;32m    936\u001b[0m         \u001b[0;31m# do the setitem\u001b[0m\u001b[0;34m\u001b[0m\u001b[0;34m\u001b[0m\u001b[0m\n\u001b[0;32m--> 937\u001b[0;31m         \u001b[0mcacher_needs_updating\u001b[0m \u001b[0;34m=\u001b[0m \u001b[0mself\u001b[0m\u001b[0;34m.\u001b[0m\u001b[0m_check_is_chained_assignment_possible\u001b[0m\u001b[0;34m(\u001b[0m\u001b[0;34m)\u001b[0m\u001b[0;34m\u001b[0m\u001b[0m\n\u001b[0m\u001b[1;32m    938\u001b[0m         \u001b[0msetitem\u001b[0m\u001b[0;34m(\u001b[0m\u001b[0mkey\u001b[0m\u001b[0;34m,\u001b[0m \u001b[0mvalue\u001b[0m\u001b[0;34m)\u001b[0m\u001b[0;34m\u001b[0m\u001b[0m\n\u001b[1;32m    939\u001b[0m         \u001b[0;32mif\u001b[0m \u001b[0mcacher_needs_updating\u001b[0m\u001b[0;34m:\u001b[0m\u001b[0;34m\u001b[0m\u001b[0m\n",
      "\u001b[0;32m~/anaconda3/lib/python3.6/site-packages/pandas/core/generic.py\u001b[0m in \u001b[0;36m_check_is_chained_assignment_possible\u001b[0;34m(self)\u001b[0m\n\u001b[1;32m   2622\u001b[0m             \u001b[0;32mif\u001b[0m \u001b[0mref\u001b[0m \u001b[0;32mis\u001b[0m \u001b[0;32mnot\u001b[0m \u001b[0;32mNone\u001b[0m \u001b[0;32mand\u001b[0m \u001b[0mref\u001b[0m\u001b[0;34m.\u001b[0m\u001b[0m_is_mixed_type\u001b[0m\u001b[0;34m:\u001b[0m\u001b[0;34m\u001b[0m\u001b[0m\n\u001b[1;32m   2623\u001b[0m                 self._check_setitem_copy(stacklevel=4, t='referant',\n\u001b[0;32m-> 2624\u001b[0;31m                                          force=True)\n\u001b[0m\u001b[1;32m   2625\u001b[0m             \u001b[0;32mreturn\u001b[0m \u001b[0;32mTrue\u001b[0m\u001b[0;34m\u001b[0m\u001b[0m\n\u001b[1;32m   2626\u001b[0m         \u001b[0;32melif\u001b[0m \u001b[0mself\u001b[0m\u001b[0;34m.\u001b[0m\u001b[0m_is_copy\u001b[0m\u001b[0;34m:\u001b[0m\u001b[0;34m\u001b[0m\u001b[0m\n",
      "\u001b[0;32m~/anaconda3/lib/python3.6/site-packages/pandas/core/generic.py\u001b[0m in \u001b[0;36m_check_setitem_copy\u001b[0;34m(self, stacklevel, t, force)\u001b[0m\n\u001b[1;32m   2668\u001b[0m             \u001b[0;31m# the copy weakref\u001b[0m\u001b[0;34m\u001b[0m\u001b[0;34m\u001b[0m\u001b[0m\n\u001b[1;32m   2669\u001b[0m             \u001b[0;32mtry\u001b[0m\u001b[0;34m:\u001b[0m\u001b[0;34m\u001b[0m\u001b[0m\n\u001b[0;32m-> 2670\u001b[0;31m                 \u001b[0mgc\u001b[0m\u001b[0;34m.\u001b[0m\u001b[0mcollect\u001b[0m\u001b[0;34m(\u001b[0m\u001b[0;36m2\u001b[0m\u001b[0;34m)\u001b[0m\u001b[0;34m\u001b[0m\u001b[0m\n\u001b[0m\u001b[1;32m   2671\u001b[0m                 \u001b[0;32mif\u001b[0m \u001b[0;32mnot\u001b[0m \u001b[0mgc\u001b[0m\u001b[0;34m.\u001b[0m\u001b[0mget_referents\u001b[0m\u001b[0;34m(\u001b[0m\u001b[0mself\u001b[0m\u001b[0;34m.\u001b[0m\u001b[0m_is_copy\u001b[0m\u001b[0;34m(\u001b[0m\u001b[0;34m)\u001b[0m\u001b[0;34m)\u001b[0m\u001b[0;34m:\u001b[0m\u001b[0;34m\u001b[0m\u001b[0m\n\u001b[1;32m   2672\u001b[0m                     \u001b[0mself\u001b[0m\u001b[0;34m.\u001b[0m\u001b[0m_is_copy\u001b[0m \u001b[0;34m=\u001b[0m \u001b[0;32mNone\u001b[0m\u001b[0;34m\u001b[0m\u001b[0m\n",
      "\u001b[0;31mKeyboardInterrupt\u001b[0m: "
     ]
    }
   ],
   "source": [
    "for i, c in enumerate(df[\"rating\"]):\n",
    "    df[\"rating\"][i] = round(c)"
   ]
  },
  {
   "cell_type": "code",
   "execution_count": 5,
   "metadata": {},
   "outputs": [
    {
     "data": {
      "text/plain": [
       "Index(['comment', 'rating'], dtype='object')"
      ]
     },
     "execution_count": 5,
     "metadata": {},
     "output_type": "execute_result"
    }
   ],
   "source": [
    "df.columns"
   ]
  },
  {
   "cell_type": "code",
   "execution_count": 7,
   "metadata": {},
   "outputs": [
    {
     "name": "stdout",
     "output_type": "stream",
     "text": [
      "* Vị trí: nằm ở trên mặt đường trúc bạch, khá rộng rãi và thoáng mát vì có viêw ra hồ trúc bạch luôn\n",
      "* Giá cả: phở cuốn 5k/ chiếc , bánh tôm 10k/ chiếc nhé\n",
      "* Chất lượng: khá ổn, cơ mà chủ yếu là độn rau chứ không được như mấy hàng phở cuốn mình hay ăn, nhân có rau với thịt bò thôi ấy\n",
      "* Dịch vụ: chủ uqán không được nhiệt tình lắm, làm đồ cũng lâu nữa, mình chờ để mang đi mà sốt hêt cả ruột :>\n",
      "* Không gian: rộng rãi thoáng mát. view đẹp\n",
      "========================================\n",
      "\n",
      "Ở đây có các loại món nhậu cho đến ăn vặt , rất đông khách , không gian ở quán rất thiên nhiên vì k phải trong nhà cũng như ngoài trời , mà chỉ chỉ mái trên là tôn che , viêw ra hồ trúc bạch gió mát lồng lộng , bàn ghế gọn gàng sạch sẽ , phở quấn rất ngon , bò k bị dai , nước chấm chua ngọt đậm đà , ăn rất ngon miệng , chủ quán và nhân viên rất nhiệt tình , chắc chắn mình sẽ quay lại đây thưởng thức với bạn bè\n",
      "========================================\n",
      "\n",
      "Em mua 1 con cá 1kg2 cho gd 4 người. Đc 4 món tất cả, ngon nhất là gỏi cá va da cá chiên. Cá hồi nướng phô mai thì hơi khô, còn lẩu cá thì lại chua quá. Tổng thiệt hại hết 920k, ck e bảo thế là rẻ chứ e thấy bình thường.\n",
      "Nvien nhanh nhẹn, lại còn bật tivi cho con e xem nữa. Chỉ bực một cái là đặt bàn giảm giá 10% trên table now mà ko đc tính.\n",
      "========================================\n",
      "\n",
      "Đến quán chọn con nào sẽ được vớt ra làm trực tiếp luôn nên đảm bảo rất tươi luôn nhé , cá hồi tươi ăn rất ngon , ngọt thịt và khá dai\n",
      "Cá được chế biến thành da cá chiên giòn , chả cá , cá rang muối ăn khá ngon\n",
      "Gỏi cá tầm - cá hồi ăn tươi , ngon , nên chấm vào bát cốt chanh trước khi ăn nhé\n",
      "========================================\n",
      "\n",
      "Nghe thiên hạ đồn bún riêu ngõ Phất Lộc ngon nhắm ngon vừa mà giờ mới được ăn tận mồm đây. Cũng ngon nhưng không khủng khiếp lắm như lời đồn. Bát đầy đủ có ốc to, ốc nhỏ, thịt bò, giò, đậu. Ưng cái là nước dùng chua dìu dịu, thanh mát dễ ăn, thêm chút mắm tôm mặn dậy vị vào là hoàn hảo.\n",
      "💲: Hơi chát, 40K/ bát đầy đủ nhưng thú thực là hơi ít, ăn không no.\n",
      "Mà quán này khác với quán chỉ bán buổi sáng, nằm sâu trong ngõ và là 1 gánh hàng nhé. Quán này ngay đầu ngõ Phất Lộc giao với Hàng bạc nha\n",
      "========================================\n",
      "\n",
      "Sao các bạn đánh giá nhà hàng chim nướng toàn khen nem rán ngon thế nhỉ :)) \n",
      "\n",
      "Cá nhân mình thấy chím nướng tẩm ướp gia vị vừa miệng, nướng thơm, ngon. \n",
      "\n",
      "Đến sớm tầm 3-4h còn có mề chim nướng, thích nhất món này, rất ngon.\n",
      "\n",
      "Củ đậu thơm ngọt, Trà chanh chua ngọt, thơm mát.\n",
      "\n",
      "Túm lại là thích chỗ này, mỗi tội quán bé tý, ngồi hơi chật.\n",
      "========================================\n",
      "\n",
      "🎈Tối này cũng thấy khu quán này đông đúc nhất ạ! Đi từ đầu ngã tư tạ hiện hàng buồm vào là thấy quán ngay! Quán mời gọi khác khá nhiệt tình! Quán kê trước nhà bàn bé đồ ăn chế biến ở cửa nhà! Nhìn như vậy nhưng cũng tầm chục cái bàn đấy ạ! \n",
      "🎈Menu có lẽ nổi nhất là món chim nướng! Chim nướng bán theo vỉ 50k 1 vỉ! Chim bé ít thịt gần như không tẩm ướp ăn thì chấm với gia vị chanh thôi theo mình thì nó không có gì đặc biệt cả so với chim nướng ở nhà bố mình hay làm thì còn lâu bằng ạ thỉnh thoảng  ăn chơi vui miệng tí thôi! Chân gà mình không biết ăn nhưng bạn mình ăn nhận xét cũng được không quá ngon! Các món khác bán theo cái thì có bán lẻ nha! Nem chua rán ăn cũng tàm tạm nhưng mà nem ở đây bé với ít lắm 5 cái là 10 miếng nem! Sữa tươi chiên có lẽ không hợp khẩu vị mình mấy nên mình thấy k ngon được cái vỏ giòn ăn ngậy ngậy ngon ngọt còn phần sữa bên trong mình không thể ăn nổi ạ\n",
      "🎈Nhân viên luôn luôn mang trạng thái căng thẳng mà cau có gọi mãi không thèm nghe dù có khá nhiều nhân viên\n",
      "========================================\n",
      "\n",
      "Thấy bài trên Foody nên thèm quá phải đi ăn ngay cho đỡ thèm. \n",
      "Quán siêu siêu nhỏ để xe bất tiện, chỗ ngồi chật chội, đèn đóm cũng tối ấy thế mà vẫn đông cả tây cả ta ngồi thưởng thức.\n",
      "Nói món chính trước thì chim nướng bây giờ còi quá mà một vỉ bán 40k ăn có tí hết như ở ảnh đó. Nem chua thì bé xíu xiu nhưng được cái ngon, chiên cốm ăn ngon hơn hẳn í. Và mang tiếng là đi ăn chim thì tui thấy phô mai que ở đây ngon quá, ngậy ngậy thơm thơm nhiều phô mai.\n",
      "Đồ ăn đồ uống ở đây đúng là ở phố tây nên giá hơi mắc so với nhiều chỗ khác nhưng đi kèm chất lượng ok\n",
      "========================================\n",
      "\n",
      "40k/vỉ chim nướng nếu mình nhớ không nhầm. Ăn khá ngon, thịt chim mềm, ngấm vị, không bị còi :v \n",
      "Phục vụ khá nhanh, không phải đợi lâu. Nhưng khu này công đoạn gửi xe lằng nhằng, thái độ phục vụ đôi khi hơi tệ. Mà chỗ ngồi khá nhỏ, chật và đông đúc, xô bồ quá.\n",
      "========================================\n",
      "\n",
      "Lên giá rồi, 40k/vỉ. Phục vụ chậm, gọi 2 ly trà đào mà giống đào pha từ gói không có miếng đào nào.\n",
      "Nói chung là chán, sẽ không quay lại nữa\n",
      "Chim Nướng Phố Tạ Hiện\n",
      "========================================\n",
      "\n",
      "M lâu lâu ra đây ăn. Ăn ngon, phục vụ cũng ko quá lâu. Hợp để vừa ăn vừa uống bia và tâm sự.\n",
      "========================================\n",
      "\n"
     ]
    }
   ],
   "source": [
    "count = 0\n",
    "for i, c in enumerate(df[\"rating\"]):\n",
    "    if c <=7 and c > 6:\n",
    "        if count <= 10:\n",
    "            print(df[\"comment\"][i])\n",
    "            print(\"========================================\\n\")\n",
    "            count += 1\n",
    "        else:\n",
    "            continue"
   ]
  },
  {
   "cell_type": "code",
   "execution_count": null,
   "metadata": {},
   "outputs": [],
   "source": []
  }
 ],
 "metadata": {
  "kernelspec": {
   "display_name": "Python 3",
   "language": "python",
   "name": "python3"
  },
  "language_info": {
   "codemirror_mode": {
    "name": "ipython",
    "version": 3
   },
   "file_extension": ".py",
   "mimetype": "text/x-python",
   "name": "python",
   "nbconvert_exporter": "python",
   "pygments_lexer": "ipython3",
   "version": "3.6.6"
  }
 },
 "nbformat": 4,
 "nbformat_minor": 2
}
